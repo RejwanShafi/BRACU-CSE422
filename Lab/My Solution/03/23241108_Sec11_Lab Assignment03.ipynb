{
 "cells": [
  {
   "cell_type": "code",
   "execution_count": 26,
   "metadata": {},
   "outputs": [
    {
     "name": "stdout",
     "output_type": "stream",
     "text": [
      "Depth and Branch Ratio is : 4:2\n",
      "Terminal States (leaf node values) are: 11,20,18,10,5,14,9,6,7,15,13,19,12,16,8,17\n",
      "Left life(HP) of the defender after maximum damage caused by the attacker is: 23\n",
      "After Alpha-Beta Pruning Leaf Node Comparisons: 16\n"
     ]
    }
   ],
   "source": [
    "\n",
    "import random\n",
    "def alpha_beta_pruning_test(bullet_no,depth,alpha,beta,idx,maximizing_player,leaf_node):\n",
    "    global prund_nodes\n",
    "    if depth==0:\n",
    "        prund_nodes+=1\n",
    "        return leaf_node[idx]\n",
    "    if maximizing_player==True:\n",
    "        damage=float('-inf')\n",
    "        for i in range(bullet_no):\n",
    "            damage=max(damage,alpha_beta_pruning_test(bullet_no,depth-1,alpha,beta,(idx*2)+i,False,leaf_node))\n",
    "            alpha=max(alpha,damage)\n",
    "            if alpha>=beta:\n",
    "                break\n",
    "        return damage\n",
    "    else:\n",
    "        damage=float('inf')\n",
    "        for i in range(bullet_no):\n",
    "            damage=min(damage,alpha_beta_pruning_test(bullet_no,depth-1,alpha,beta,(idx*2)+i,False,leaf_node))\n",
    "            beta=min(beta,damage)\n",
    "            if alpha>=beta:\n",
    "                break\n",
    "        return damage\n",
    "\n",
    "student_id=input(\"Enter your student ID: \")\n",
    "min_hp,max_hp=input(\"Enter the minimum and maximum negative HP:  \").split()\n",
    "min_hp,max_hp=int(min_hp),int(max_hp)\n",
    "turns=int(student_id[0]) #numbers of turns for attacker\n",
    "#print(f\"Turns: {turns}\")\n",
    "depth=turns*2\n",
    "#print(f\"Depth: {depth}\")\n",
    "defender_initial_hp=int(student_id[-2:][::-1])\n",
    "#print(f\"Initial HP : {defender_initial_hp}\")\n",
    "prund_nodes=0\n",
    "number_of_bullets=int(student_id[2]) #branches\n",
    "\n",
    "leaf_nodes_lst=random.sample(range(min_hp,max_hp+1),pow(number_of_bullets,depth))\n",
    "#print(f\"Leaf node: {leaf_nodefs_lst}\")\n",
    "damage_points=alpha_beta_pruning_test(number_of_bullets,depth,float('-inf'),float('inf'),0,True,leaf_nodes_lst)\n",
    "\n",
    "\n",
    "leaf_nodes=''\n",
    "for i in range(len(leaf_nodes_lst)):\n",
    "    leaf_nodes+=str(leaf_nodes_lst[i])+','\n",
    "leaf_nodes=leaf_nodes[:-1]\n",
    "\n",
    "\n",
    "#---------------------------------\n",
    "print(f\"Depth and Branch Ratio is : {depth}:{number_of_bullets}\")\n",
    "print(f\"Terminal States (leaf node values) are: {leaf_nodes}\")\n",
    "print(f\"Left life(HP) of the defender after maximum damage caused by the attacker is: {defender_initial_hp-damage_points}\")\n",
    "print(f\"After Alpha-Beta Pruning Leaf Node Comparisons: {prund_nodes}\")\n",
    "#-----------------------------------"
   ]
  }
 ],
 "metadata": {
  "kernelspec": {
   "display_name": "Python 3",
   "language": "python",
   "name": "python3"
  },
  "language_info": {
   "codemirror_mode": {
    "name": "ipython",
    "version": 3
   },
   "file_extension": ".py",
   "mimetype": "text/x-python",
   "name": "python",
   "nbconvert_exporter": "python",
   "pygments_lexer": "ipython3",
   "version": "3.11.6"
  }
 },
 "nbformat": 4,
 "nbformat_minor": 2
}
